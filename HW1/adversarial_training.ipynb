{
 "cells": [
  {
   "cell_type": "markdown",
   "metadata": {
    "id": "Whsg1XX_OZs6"
   },
   "source": [
    "# Boilerplate\n",
    "\n",
    "Package installation, loading, and dataloaders. There's also a simple model defined. You can change it your favourite architecture if you want."
   ]
  },
  {
   "cell_type": "code",
   "execution_count": null,
   "metadata": {
    "id": "R1domTvnONqD"
   },
   "outputs": [],
   "source": [
    "# !pip install tensorboardX\n",
    "\n",
    "import torch\n",
    "import torch.nn as nn\n",
    "import torch.optim as optim\n",
    "import torch.nn.functional as F\n",
    "import numpy as np\n",
    "import time\n",
    "import matplotlib.pyplot as plt\n",
    "\n",
    "from torchvision import datasets, transforms\n",
    "# from tensorboardX import SummaryWriter\n",
    "\n",
    "use_cuda = False\n",
    "device = torch.device(\"cuda\" if use_cuda else \"cpu\")\n",
    "batch_size = 64\n",
    "\n",
    "np.random.seed(42)\n",
    "torch.manual_seed(42)\n",
    "\n",
    "\n",
    "## Dataloaders\n",
    "train_dataset = datasets.MNIST('mnist_data/', train=True, download=True, transform=transforms.Compose(\n",
    "    [transforms.ToTensor()]\n",
    "))\n",
    "test_dataset = datasets.MNIST('mnist_data/', train=False, download=True, transform=transforms.Compose(\n",
    "    [transforms.ToTensor()]\n",
    "))\n",
    "\n",
    "train_loader = torch.utils.data.DataLoader(train_dataset, batch_size=batch_size, shuffle=True)\n",
    "test_loader = torch.utils.data.DataLoader(test_dataset, batch_size=batch_size, shuffle=False)\n",
    "\n",
    "## Simple NN. You can change this if you want. If you change it, mention the architectural details in your report.\n",
    "class Net(nn.Module):\n",
    "    def __init__(self):\n",
    "        super(Net, self).__init__()\n",
    "        self.fc = nn.Linear(28*28, 200)\n",
    "        self.fc2 = nn.Linear(200,10)\n",
    "\n",
    "    def forward(self, x):\n",
    "        x = x.view((-1, 28*28))\n",
    "        x = F.relu(self.fc(x))\n",
    "        x = self.fc2(x)\n",
    "        return x\n",
    "\n",
    "class Normalize(nn.Module):\n",
    "    def forward(self, x):\n",
    "        return (x - 0.1307)/0.3081\n",
    "\n",
    "# Add the data normalization as a first \"layer\" to the network\n",
    "# this allows us to search for adverserial examples to the real image, rather than\n",
    "# to the normalized image\n",
    "model = nn.Sequential(Normalize(), Net())\n",
    "\n",
    "model = model.to(device)\n",
    "model.train()"
   ]
  },
  {
   "cell_type": "markdown",
   "metadata": {
    "id": "NCmWfZHTO8Oo"
   },
   "source": [
    "# Implement the Attacks\n",
    "\n",
    "Functions are given a simple useful signature that you can start with. Feel free to extend the signature as you see fit.\n",
    "\n",
    "You may find it useful to create a 'batched' version of PGD that you can use to create the adversarial attack."
   ]
  },
  {
   "cell_type": "code",
   "execution_count": 235,
   "metadata": {
    "id": "EZjvA49yONqP"
   },
   "outputs": [],
   "source": [
    "def get_model_prediction(model, x):\n",
    "    model.eval()\n",
    "    with torch.no_grad():\n",
    "        x = x.to(device)\n",
    "        output = model(x)\n",
    "        _, pred = output.max(1)\n",
    "    return pred.item()\n",
    "\n",
    "# The last argument 'targeted' can be used to toggle between a targeted and untargeted attack.\n",
    "def fgsm(model, x, y, eps):\n",
    "    #TODO: implement this as an intermediate step of PGD\n",
    "    # Notes: put the model in eval() mode for this function\n",
    "    # x: input image\n",
    "    # y: ground truth label for x\n",
    "    # eps: size of an individual FGSM step\n",
    "    model.eval()\n",
    "\n",
    "    loss_fn = nn.CrossEntropyLoss()\n",
    "    x = x.to(device)\n",
    "    y = torch.tensor([y])\n",
    "    prediciton = model(x)\n",
    "    loss = loss_fn(prediciton, y)\n",
    "    # retain_graph needed since we are calling backward multiple times\n",
    "    loss.backward(retain_graph=True)\n",
    "    \n",
    "    # print(f'Gradient of loss with respect to x: {x.grad}')\n",
    "    step = eps * torch.sign(x.grad)\n",
    "    x_new = x + step\n",
    "    # Retain the gradient for non-leaf variables\n",
    "    x_new.retain_grad()\n",
    "    \n",
    "    return x_new\n",
    "\n",
    "def pgd_untargeted(model, x, y, k, eps, eps_step):\n",
    "    #TODO: implement this \n",
    "    # Notes: put the model in eval() mode for this function\n",
    "    # x: input image\n",
    "    # y: ground truth label for x\n",
    "    # k: steps of FGSM\n",
    "    # eps: projection region for PGD (note the need for normalization before projection, as eps values are for inputs in [0,1])\n",
    "    # eps_step: step for one iteration of FGSM\n",
    "    model.eval()\n",
    "\n",
    "    # print(f'Original Label: {y}')\n",
    "    x_orig = torch.clone(x)\n",
    "    x.requires_grad = True\n",
    "\n",
    "    for i in range(k):\n",
    "        x_new = fgsm(model, x, y, eps_step)\n",
    "        x_new = torch.clamp(x_new, min = x_orig - eps, max = x_orig + eps)\n",
    "        x_new.retain_grad()\n",
    "        y_pred = get_model_prediction(model, x_new)\n",
    "        # print(f'Prediction after step {i}: {y_pred}')\n",
    "        if y_pred != y:\n",
    "            return x_new, y_pred\n",
    "        x = x_new\n",
    "    return None\n",
    "    "
   ]
  },
  {
   "cell_type": "markdown",
   "metadata": {
    "id": "0Mja_AB4RykO"
   },
   "source": [
    "# Implement Adversarial Training"
   ]
  },
  {
   "cell_type": "code",
   "execution_count": 236,
   "metadata": {
    "id": "V-sw8yKYONqQ"
   },
   "outputs": [],
   "source": [
    "def train_model(model, num_epochs, enable_defense=True, attack='pgd', eps=0.1):\n",
    "    # TODO: implement this function that trains a given model on the MNIST dataset.\n",
    "    # this is a general-purpose function for both standard training and adversarial training.\n",
    "    # (toggle enable_defense parameter to switch between training schemes)\n",
    "    loss_fn = nn.CrossEntropyLoss()\n",
    "    optimizer = optim.SGD(model.parameters(), lr=0.001, momentum=0.9)\n",
    "    \n",
    "    for epoch in range(num_epochs):\n",
    "        print(f'Epoch {epoch}')\n",
    "        running_loss = 0.0\n",
    "        for batch_idx, (inputs, labels) in enumerate(train_loader):\n",
    "            outputs = model(inputs)\n",
    "            optimizer.zero_grad()\n",
    "            loss = loss_fn(outputs, labels)\n",
    "            loss.backward()\n",
    "            optimizer.step()\n",
    "            \n",
    "            running_loss += loss.item()\n",
    "            # Print every 100th batch in an epoch\n",
    "            if batch_idx % 100 == 99:\n",
    "                print(f'Average loss per batch: {running_loss/100}')\n",
    "                running_loss = 0.0"
   ]
  },
  {
   "cell_type": "code",
   "execution_count": 237,
   "metadata": {},
   "outputs": [],
   "source": [
    "def print_images(x, y, x_adv, y_adv):\n",
    "    x = x.squeeze().detach().numpy()\n",
    "    x_adv = x_adv.squeeze().detach().numpy()\n",
    "    _, axes = plt.subplots(1, 2, figsize=(10, 5))\n",
    "\n",
    "\n",
    "    axes[0].imshow(x, cmap='gray')\n",
    "    axes[0].set_title(f'Original Image')\n",
    "    axes[0].axis('off')\n",
    "\n",
    "    axes[1].imshow(x_adv, cmap='gray')\n",
    "    axes[1].set_title(f'Adversarial Image: {y} -> {y_adv}')\n",
    "    axes[1].axis('off')\n",
    "\n",
    "    plt.tight_layout()\n",
    "    plt.show()\n",
    "\n",
    "def test_model_on_attacks(model, attack='pgd', eps=0.1):\n",
    "    # TODO: implement this function to test the robust accuracy of the given model\n",
    "    # use pgd_untargeted() within this function\n",
    "    print(f'Epsilon = {eps}')\n",
    "    model.eval()\n",
    "    correct_orig = 0\n",
    "    correct_adv = 0\n",
    "    for input, label in test_dataset:\n",
    "        pred = get_model_prediction(model, input)\n",
    "        if pred == label:\n",
    "            correct_orig += 1\n",
    "        res = pgd_untargeted(model, input, label, 10, eps, 0.01)\n",
    "        if res == None:\n",
    "            # No adverserial example found\n",
    "            correct_adv += 1\n",
    "    adv_accuracy = 100 * correct_adv/len(test_dataset)\n",
    "    print(f'Accuracy on adversarial examples: {adv_accuracy}%')\n",
    "    robust_accuracy = 100 * (correct_orig + correct_adv)/(2 * len(test_dataset))\n",
    "    print(f'Robust Accuracy: {robust_accuracy}%')\n",
    "    return adv_accuracy, robust_accuracy"
   ]
  },
  {
   "cell_type": "markdown",
   "metadata": {
    "id": "ZPMdfEhtR3zm"
   },
   "source": [
    "# Study Accuracy, Quality, etc.\n",
    "\n",
    "Compare the various results and report your observations on the submission."
   ]
  },
  {
   "cell_type": "code",
   "execution_count": 238,
   "metadata": {},
   "outputs": [],
   "source": [
    "def standard_accuracy(model):\n",
    "    with torch.no_grad():\n",
    "        model.eval()\n",
    "        total = 0\n",
    "        correct = 0\n",
    "        for inputs, labels in test_loader:\n",
    "            outputs = model(inputs)\n",
    "            _, predicted = torch.max(outputs, 1)\n",
    "            total += labels.size(0)\n",
    "            correct += (predicted == labels).sum().item()\n",
    "    standard_accuracy = 100 * correct/total\n",
    "    print(f'Accuracy: {standard_accuracy}%')\n",
    "    return standard_accuracy"
   ]
  },
  {
   "cell_type": "code",
   "execution_count": null,
   "metadata": {
    "scrolled": true
   },
   "outputs": [],
   "source": [
    "## train the original model\n",
    "model = nn.Sequential(Normalize(), Net())\n",
    "model = model.to(device)\n",
    "model.train()\n",
    "\n",
    "# train_model(model, 20, False)\n",
    "# torch.save(model.state_dict(), 'weights.pt')"
   ]
  },
  {
   "cell_type": "code",
   "execution_count": null,
   "metadata": {},
   "outputs": [],
   "source": [
    "model = nn.Sequential(Normalize(), Net())\n",
    "model.load_state_dict(torch.load('weights.pt'))\n",
    "\n",
    "standard_accuracy(model)"
   ]
  },
  {
   "cell_type": "code",
   "execution_count": null,
   "metadata": {},
   "outputs": [],
   "source": [
    "## PGD attack\n",
    "model = nn.Sequential(Normalize(), Net())\n",
    "model.load_state_dict(torch.load('weights.pt'))\n",
    "\n",
    "for eps in [0.05, 0.1, 0.15, 0.2]:\n",
    "    test_model_on_attacks(model, attack='pgd', eps=eps)"
   ]
  },
  {
   "cell_type": "code",
   "execution_count": null,
   "metadata": {
    "id": "ufD-ccTFR8R2"
   },
   "outputs": [],
   "source": [
    "## PGD based adversarial training\n",
    "model = nn.Sequential(Normalize(), Net())\n",
    "eps = 0.1\n",
    "train_model(model, 20, True, 'pgd', eps)\n",
    "torch.save(model.state_dict(), f'weights_AT_{eps}.pt')"
   ]
  }
 ],
 "metadata": {
  "colab": {
   "provenance": []
  },
  "kernelspec": {
   "display_name": "Python 3",
   "language": "python",
   "name": "python3"
  },
  "language_info": {
   "codemirror_mode": {
    "name": "ipython",
    "version": 3
   },
   "file_extension": ".py",
   "mimetype": "text/x-python",
   "name": "python",
   "nbconvert_exporter": "python",
   "pygments_lexer": "ipython3",
   "version": "3.10.12"
  }
 },
 "nbformat": 4,
 "nbformat_minor": 1
}
